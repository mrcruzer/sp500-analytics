{
 "cells": [
  {
   "cell_type": "code",
   "execution_count": 1,
   "metadata": {},
   "outputs": [],
   "source": [
    "# Import librarys\n",
    "\n",
    "import pandas as pd \n",
    "import yfinance as yf\n",
    "import matplotlib.pyplot as plt\n",
    "import seaborn as sns\n"
   ]
  },
  {
   "cell_type": "code",
   "execution_count": 2,
   "metadata": {},
   "outputs": [
    {
     "name": "stderr",
     "output_type": "stream",
     "text": [
      "C:\\Users\\Public\\Documents\\Wondershare\\CreatorTemp\\ipykernel_26496\\2332510229.py:1: DtypeWarning: Columns (15) have mixed types. Specify dtype option on import or set low_memory=False.\n",
      "  datos = pd.read_csv(\"./sector_energy_v1.csv\", index_col=0)\n"
     ]
    }
   ],
   "source": [
    "datos = pd.read_csv(\"./sector_energy_v1.csv\", index_col=0)\n",
    "\n"
   ]
  },
  {
   "cell_type": "code",
   "execution_count": 3,
   "metadata": {},
   "outputs": [
    {
     "data": {
      "text/html": [
       "<div>\n",
       "<style scoped>\n",
       "    .dataframe tbody tr th:only-of-type {\n",
       "        vertical-align: middle;\n",
       "    }\n",
       "\n",
       "    .dataframe tbody tr th {\n",
       "        vertical-align: top;\n",
       "    }\n",
       "\n",
       "    .dataframe thead th {\n",
       "        text-align: right;\n",
       "    }\n",
       "</style>\n",
       "<table border=\"1\" class=\"dataframe\">\n",
       "  <thead>\n",
       "    <tr style=\"text-align: right;\">\n",
       "      <th></th>\n",
       "      <th>Date</th>\n",
       "      <th>Open</th>\n",
       "      <th>High</th>\n",
       "      <th>Low</th>\n",
       "      <th>Close</th>\n",
       "      <th>Adj Close</th>\n",
       "      <th>Volume</th>\n",
       "      <th>Symbol</th>\n",
       "      <th>Security</th>\n",
       "      <th>GICS Sector</th>\n",
       "      <th>GICS Sub-Industry</th>\n",
       "      <th>Headquarters Location</th>\n",
       "      <th>Date added</th>\n",
       "      <th>CIK</th>\n",
       "      <th>Founded</th>\n",
       "      <th>Dias</th>\n",
       "      <th>Mes</th>\n",
       "      <th>Anual</th>\n",
       "    </tr>\n",
       "  </thead>\n",
       "  <tbody>\n",
       "    <tr>\n",
       "      <th>232052</th>\n",
       "      <td>2000-01-03</td>\n",
       "      <td>15.882035</td>\n",
       "      <td>15.882035</td>\n",
       "      <td>14.745671</td>\n",
       "      <td>14.772727</td>\n",
       "      <td>11.330813</td>\n",
       "      <td>1082697</td>\n",
       "      <td>APA</td>\n",
       "      <td>APA Corporation</td>\n",
       "      <td>Energy</td>\n",
       "      <td>Oil &amp; Gas Exploration &amp; Production</td>\n",
       "      <td>Houston, Texas</td>\n",
       "      <td>1997-07-28</td>\n",
       "      <td>1841666</td>\n",
       "      <td>1954</td>\n",
       "      <td>Lunes</td>\n",
       "      <td>Enero</td>\n",
       "      <td>2000</td>\n",
       "    </tr>\n",
       "    <tr>\n",
       "      <th>232053</th>\n",
       "      <td>2000-01-04</td>\n",
       "      <td>14.285714</td>\n",
       "      <td>14.556277</td>\n",
       "      <td>13.961039</td>\n",
       "      <td>14.123377</td>\n",
       "      <td>10.832755</td>\n",
       "      <td>2959572</td>\n",
       "      <td>APA</td>\n",
       "      <td>APA Corporation</td>\n",
       "      <td>Energy</td>\n",
       "      <td>Oil &amp; Gas Exploration &amp; Production</td>\n",
       "      <td>Houston, Texas</td>\n",
       "      <td>1997-07-28</td>\n",
       "      <td>1841666</td>\n",
       "      <td>1954</td>\n",
       "      <td>Martes</td>\n",
       "      <td>Enero</td>\n",
       "      <td>2000</td>\n",
       "    </tr>\n",
       "    <tr>\n",
       "      <th>232054</th>\n",
       "      <td>2000-01-05</td>\n",
       "      <td>14.231602</td>\n",
       "      <td>14.583333</td>\n",
       "      <td>14.123377</td>\n",
       "      <td>14.529221</td>\n",
       "      <td>11.144041</td>\n",
       "      <td>2170014</td>\n",
       "      <td>APA</td>\n",
       "      <td>APA Corporation</td>\n",
       "      <td>Energy</td>\n",
       "      <td>Oil &amp; Gas Exploration &amp; Production</td>\n",
       "      <td>Houston, Texas</td>\n",
       "      <td>1997-07-28</td>\n",
       "      <td>1841666</td>\n",
       "      <td>1954</td>\n",
       "      <td>Miércoles</td>\n",
       "      <td>Enero</td>\n",
       "      <td>2000</td>\n",
       "    </tr>\n",
       "    <tr>\n",
       "      <th>232055</th>\n",
       "      <td>2000-01-06</td>\n",
       "      <td>14.935065</td>\n",
       "      <td>16.017317</td>\n",
       "      <td>14.745671</td>\n",
       "      <td>15.909091</td>\n",
       "      <td>12.202415</td>\n",
       "      <td>2416029</td>\n",
       "      <td>APA</td>\n",
       "      <td>APA Corporation</td>\n",
       "      <td>Energy</td>\n",
       "      <td>Oil &amp; Gas Exploration &amp; Production</td>\n",
       "      <td>Houston, Texas</td>\n",
       "      <td>1997-07-28</td>\n",
       "      <td>1841666</td>\n",
       "      <td>1954</td>\n",
       "      <td>Jueves</td>\n",
       "      <td>Enero</td>\n",
       "      <td>2000</td>\n",
       "    </tr>\n",
       "    <tr>\n",
       "      <th>232056</th>\n",
       "      <td>2000-01-07</td>\n",
       "      <td>16.125542</td>\n",
       "      <td>16.450216</td>\n",
       "      <td>15.557359</td>\n",
       "      <td>15.854978</td>\n",
       "      <td>12.160909</td>\n",
       "      <td>1709169</td>\n",
       "      <td>APA</td>\n",
       "      <td>APA Corporation</td>\n",
       "      <td>Energy</td>\n",
       "      <td>Oil &amp; Gas Exploration &amp; Production</td>\n",
       "      <td>Houston, Texas</td>\n",
       "      <td>1997-07-28</td>\n",
       "      <td>1841666</td>\n",
       "      <td>1954</td>\n",
       "      <td>Viernes</td>\n",
       "      <td>Enero</td>\n",
       "      <td>2000</td>\n",
       "    </tr>\n",
       "  </tbody>\n",
       "</table>\n",
       "</div>"
      ],
      "text/plain": [
       "              Date       Open       High        Low      Close  Adj Close  \\\n",
       "232052  2000-01-03  15.882035  15.882035  14.745671  14.772727  11.330813   \n",
       "232053  2000-01-04  14.285714  14.556277  13.961039  14.123377  10.832755   \n",
       "232054  2000-01-05  14.231602  14.583333  14.123377  14.529221  11.144041   \n",
       "232055  2000-01-06  14.935065  16.017317  14.745671  15.909091  12.202415   \n",
       "232056  2000-01-07  16.125542  16.450216  15.557359  15.854978  12.160909   \n",
       "\n",
       "         Volume Symbol         Security GICS Sector  \\\n",
       "232052  1082697    APA  APA Corporation      Energy   \n",
       "232053  2959572    APA  APA Corporation      Energy   \n",
       "232054  2170014    APA  APA Corporation      Energy   \n",
       "232055  2416029    APA  APA Corporation      Energy   \n",
       "232056  1709169    APA  APA Corporation      Energy   \n",
       "\n",
       "                         GICS Sub-Industry Headquarters Location  Date added  \\\n",
       "232052  Oil & Gas Exploration & Production        Houston, Texas  1997-07-28   \n",
       "232053  Oil & Gas Exploration & Production        Houston, Texas  1997-07-28   \n",
       "232054  Oil & Gas Exploration & Production        Houston, Texas  1997-07-28   \n",
       "232055  Oil & Gas Exploration & Production        Houston, Texas  1997-07-28   \n",
       "232056  Oil & Gas Exploration & Production        Houston, Texas  1997-07-28   \n",
       "\n",
       "            CIK Founded       Dias    Mes  Anual  \n",
       "232052  1841666    1954      Lunes  Enero   2000  \n",
       "232053  1841666    1954     Martes  Enero   2000  \n",
       "232054  1841666    1954  Miércoles  Enero   2000  \n",
       "232055  1841666    1954     Jueves  Enero   2000  \n",
       "232056  1841666    1954    Viernes  Enero   2000  "
      ]
     },
     "execution_count": 3,
     "metadata": {},
     "output_type": "execute_result"
    }
   ],
   "source": [
    "datos.head()"
   ]
  },
  {
   "cell_type": "code",
   "execution_count": 4,
   "metadata": {},
   "outputs": [
    {
     "name": "stdout",
     "output_type": "stream",
     "text": [
      "<class 'pandas.core.frame.DataFrame'>\n",
      "Int64Index: 119171 entries, 232052 to 2555016\n",
      "Data columns (total 18 columns):\n",
      " #   Column                 Non-Null Count   Dtype  \n",
      "---  ------                 --------------   -----  \n",
      " 0   Date                   119171 non-null  object \n",
      " 1   Open                   119171 non-null  float64\n",
      " 2   High                   119171 non-null  float64\n",
      " 3   Low                    119171 non-null  float64\n",
      " 4   Close                  119171 non-null  float64\n",
      " 5   Adj Close              119171 non-null  float64\n",
      " 6   Volume                 119171 non-null  int64  \n",
      " 7   Symbol                 119171 non-null  object \n",
      " 8   Security               119171 non-null  object \n",
      " 9   GICS Sector            119171 non-null  object \n",
      " 10  GICS Sub-Industry      119171 non-null  object \n",
      " 11  Headquarters Location  119171 non-null  object \n",
      " 12  Date added             119171 non-null  object \n",
      " 13  CIK                    119171 non-null  int64  \n",
      " 14  Founded                119171 non-null  object \n",
      " 15  Dias                   119171 non-null  object \n",
      " 16  Mes                    119171 non-null  object \n",
      " 17  Anual                  119171 non-null  int64  \n",
      "dtypes: float64(5), int64(3), object(10)\n",
      "memory usage: 17.3+ MB\n"
     ]
    }
   ],
   "source": [
    "datos.info()"
   ]
  },
  {
   "cell_type": "code",
   "execution_count": 5,
   "metadata": {},
   "outputs": [
    {
     "data": {
      "text/plain": [
       "(119171, 18)"
      ]
     },
     "execution_count": 5,
     "metadata": {},
     "output_type": "execute_result"
    }
   ],
   "source": [
    "datos.shape"
   ]
  },
  {
   "cell_type": "code",
   "execution_count": 6,
   "metadata": {},
   "outputs": [
    {
     "data": {
      "text/plain": [
       "array(['APA', 'BKR', 'CVX', 'COP', 'CTRA', 'DVN', 'FANG', 'EOG', 'EQT',\n",
       "       'XOM', 'HAL', 'HES', 'KMI', 'MRO', 'MPC', 'OXY', 'OKE', 'PSX',\n",
       "       'PXD', 'SLB', 'TRGP', 'VLO', 'WMB'], dtype=object)"
      ]
     },
     "execution_count": 6,
     "metadata": {},
     "output_type": "execute_result"
    }
   ],
   "source": [
    "datos['Symbol'].unique()"
   ]
  },
  {
   "cell_type": "code",
   "execution_count": 7,
   "metadata": {},
   "outputs": [
    {
     "data": {
      "text/html": [
       "<div>\n",
       "<style scoped>\n",
       "    .dataframe tbody tr th:only-of-type {\n",
       "        vertical-align: middle;\n",
       "    }\n",
       "\n",
       "    .dataframe tbody tr th {\n",
       "        vertical-align: top;\n",
       "    }\n",
       "\n",
       "    .dataframe thead th {\n",
       "        text-align: right;\n",
       "    }\n",
       "</style>\n",
       "<table border=\"1\" class=\"dataframe\">\n",
       "  <thead>\n",
       "    <tr style=\"text-align: right;\">\n",
       "      <th></th>\n",
       "      <th>Open</th>\n",
       "      <th>High</th>\n",
       "      <th>Low</th>\n",
       "      <th>Close</th>\n",
       "      <th>Adj Close</th>\n",
       "      <th>Volume</th>\n",
       "      <th>CIK</th>\n",
       "      <th>Anual</th>\n",
       "    </tr>\n",
       "  </thead>\n",
       "  <tbody>\n",
       "    <tr>\n",
       "      <th>count</th>\n",
       "      <td>119171.000000</td>\n",
       "      <td>119171.000000</td>\n",
       "      <td>119171.000000</td>\n",
       "      <td>119171.000000</td>\n",
       "      <td>119171.000000</td>\n",
       "      <td>1.191710e+05</td>\n",
       "      <td>1.191710e+05</td>\n",
       "      <td>119171.000000</td>\n",
       "    </tr>\n",
       "    <tr>\n",
       "      <th>mean</th>\n",
       "      <td>49.163046</td>\n",
       "      <td>49.831494</td>\n",
       "      <td>48.456647</td>\n",
       "      <td>49.154199</td>\n",
       "      <td>38.119762</td>\n",
       "      <td>6.815187e+06</td>\n",
       "      <td>7.611918e+05</td>\n",
       "      <td>2011.780165</td>\n",
       "    </tr>\n",
       "    <tr>\n",
       "      <th>std</th>\n",
       "      <td>34.682750</td>\n",
       "      <td>35.102764</td>\n",
       "      <td>34.234075</td>\n",
       "      <td>34.676659</td>\n",
       "      <td>30.084033</td>\n",
       "      <td>6.858563e+06</td>\n",
       "      <td>6.174614e+05</td>\n",
       "      <td>6.643964</td>\n",
       "    </tr>\n",
       "    <tr>\n",
       "      <th>min</th>\n",
       "      <td>0.717376</td>\n",
       "      <td>0.937480</td>\n",
       "      <td>0.635856</td>\n",
       "      <td>0.717376</td>\n",
       "      <td>0.333410</td>\n",
       "      <td>0.000000e+00</td>\n",
       "      <td>4.447000e+03</td>\n",
       "      <td>2000.000000</td>\n",
       "    </tr>\n",
       "    <tr>\n",
       "      <th>25%</th>\n",
       "      <td>22.809999</td>\n",
       "      <td>23.181666</td>\n",
       "      <td>22.401626</td>\n",
       "      <td>22.790001</td>\n",
       "      <td>16.762750</td>\n",
       "      <td>2.653100e+06</td>\n",
       "      <td>9.341000e+04</td>\n",
       "      <td>2006.000000</td>\n",
       "    </tr>\n",
       "    <tr>\n",
       "      <th>50%</th>\n",
       "      <td>41.279442</td>\n",
       "      <td>41.880001</td>\n",
       "      <td>40.660000</td>\n",
       "      <td>41.268372</td>\n",
       "      <td>30.355778</td>\n",
       "      <td>4.905800e+06</td>\n",
       "      <td>8.584700e+05</td>\n",
       "      <td>2012.000000</td>\n",
       "    </tr>\n",
       "    <tr>\n",
       "      <th>75%</th>\n",
       "      <td>68.275726</td>\n",
       "      <td>69.150002</td>\n",
       "      <td>67.339996</td>\n",
       "      <td>68.250000</td>\n",
       "      <td>52.692684</td>\n",
       "      <td>8.778747e+06</td>\n",
       "      <td>1.163165e+06</td>\n",
       "      <td>2017.000000</td>\n",
       "    </tr>\n",
       "    <tr>\n",
       "      <th>max</th>\n",
       "      <td>286.489990</td>\n",
       "      <td>288.459991</td>\n",
       "      <td>282.309998</td>\n",
       "      <td>285.279999</td>\n",
       "      <td>269.000458</td>\n",
       "      <td>2.739966e+08</td>\n",
       "      <td>1.841666e+06</td>\n",
       "      <td>2023.000000</td>\n",
       "    </tr>\n",
       "  </tbody>\n",
       "</table>\n",
       "</div>"
      ],
      "text/plain": [
       "                Open           High            Low          Close  \\\n",
       "count  119171.000000  119171.000000  119171.000000  119171.000000   \n",
       "mean       49.163046      49.831494      48.456647      49.154199   \n",
       "std        34.682750      35.102764      34.234075      34.676659   \n",
       "min         0.717376       0.937480       0.635856       0.717376   \n",
       "25%        22.809999      23.181666      22.401626      22.790001   \n",
       "50%        41.279442      41.880001      40.660000      41.268372   \n",
       "75%        68.275726      69.150002      67.339996      68.250000   \n",
       "max       286.489990     288.459991     282.309998     285.279999   \n",
       "\n",
       "           Adj Close        Volume           CIK          Anual  \n",
       "count  119171.000000  1.191710e+05  1.191710e+05  119171.000000  \n",
       "mean       38.119762  6.815187e+06  7.611918e+05    2011.780165  \n",
       "std        30.084033  6.858563e+06  6.174614e+05       6.643964  \n",
       "min         0.333410  0.000000e+00  4.447000e+03    2000.000000  \n",
       "25%        16.762750  2.653100e+06  9.341000e+04    2006.000000  \n",
       "50%        30.355778  4.905800e+06  8.584700e+05    2012.000000  \n",
       "75%        52.692684  8.778747e+06  1.163165e+06    2017.000000  \n",
       "max       269.000458  2.739966e+08  1.841666e+06    2023.000000  "
      ]
     },
     "execution_count": 7,
     "metadata": {},
     "output_type": "execute_result"
    }
   ],
   "source": [
    "datos.describe()"
   ]
  },
  {
   "cell_type": "code",
   "execution_count": 8,
   "metadata": {},
   "outputs": [
    {
     "data": {
      "text/plain": [
       "Date                     0\n",
       "Open                     0\n",
       "High                     0\n",
       "Low                      0\n",
       "Close                    0\n",
       "Adj Close                0\n",
       "Volume                   0\n",
       "Symbol                   0\n",
       "Security                 0\n",
       "GICS Sector              0\n",
       "GICS Sub-Industry        0\n",
       "Headquarters Location    0\n",
       "Date added               0\n",
       "CIK                      0\n",
       "Founded                  0\n",
       "Dias                     0\n",
       "Mes                      0\n",
       "Anual                    0\n",
       "dtype: int64"
      ]
     },
     "execution_count": 8,
     "metadata": {},
     "output_type": "execute_result"
    }
   ],
   "source": [
    "datos.isnull().sum() #checking missing values"
   ]
  },
  {
   "cell_type": "code",
   "execution_count": 9,
   "metadata": {},
   "outputs": [
    {
     "name": "stderr",
     "output_type": "stream",
     "text": [
      "C:\\Users\\Public\\Documents\\Wondershare\\CreatorTemp\\ipykernel_26496\\1960782795.py:1: FutureWarning: The default value of numeric_only in DataFrameGroupBy.idxmax is deprecated. In a future version, numeric_only will default to False. Either specify numeric_only or select only columns which should be valid for the function.\n",
      "  mayores = datos.sort_values(by=['Close'], ascending=False).groupby(\"Symbol\").idxmax()\n"
     ]
    }
   ],
   "source": [
    "mayores = datos.sort_values(by=['Close'], ascending=False).groupby(\"Symbol\").idxmax()"
   ]
  },
  {
   "cell_type": "code",
   "execution_count": 10,
   "metadata": {},
   "outputs": [
    {
     "data": {
      "text/html": [
       "<div>\n",
       "<style scoped>\n",
       "    .dataframe tbody tr th:only-of-type {\n",
       "        vertical-align: middle;\n",
       "    }\n",
       "\n",
       "    .dataframe tbody tr th {\n",
       "        vertical-align: top;\n",
       "    }\n",
       "\n",
       "    .dataframe thead th {\n",
       "        text-align: right;\n",
       "    }\n",
       "</style>\n",
       "<table border=\"1\" class=\"dataframe\">\n",
       "  <thead>\n",
       "    <tr style=\"text-align: right;\">\n",
       "      <th></th>\n",
       "      <th>Open</th>\n",
       "      <th>High</th>\n",
       "      <th>Low</th>\n",
       "      <th>Close</th>\n",
       "      <th>Adj Close</th>\n",
       "      <th>Volume</th>\n",
       "      <th>CIK</th>\n",
       "      <th>Anual</th>\n",
       "    </tr>\n",
       "    <tr>\n",
       "      <th>Symbol</th>\n",
       "      <th></th>\n",
       "      <th></th>\n",
       "      <th></th>\n",
       "      <th></th>\n",
       "      <th></th>\n",
       "      <th></th>\n",
       "      <th></th>\n",
       "      <th></th>\n",
       "    </tr>\n",
       "  </thead>\n",
       "  <tbody>\n",
       "    <tr>\n",
       "      <th>APA</th>\n",
       "      <td>234159</td>\n",
       "      <td>234159</td>\n",
       "      <td>234159</td>\n",
       "      <td>234158</td>\n",
       "      <td>234158</td>\n",
       "      <td>237151</td>\n",
       "      <td>234158</td>\n",
       "      <td>237856</td>\n",
       "    </tr>\n",
       "    <tr>\n",
       "      <th>BKR</th>\n",
       "      <td>307874</td>\n",
       "      <td>307873</td>\n",
       "      <td>307873</td>\n",
       "      <td>307873</td>\n",
       "      <td>307873</td>\n",
       "      <td>310664</td>\n",
       "      <td>307873</td>\n",
       "      <td>311730</td>\n",
       "    </tr>\n",
       "    <tr>\n",
       "      <th>COP</th>\n",
       "      <td>644091</td>\n",
       "      <td>644091</td>\n",
       "      <td>644092</td>\n",
       "      <td>644092</td>\n",
       "      <td>644092</td>\n",
       "      <td>641243</td>\n",
       "      <td>644092</td>\n",
       "      <td>644146</td>\n",
       "    </tr>\n",
       "    <tr>\n",
       "      <th>CTRA</th>\n",
       "      <td>689682</td>\n",
       "      <td>689681</td>\n",
       "      <td>689682</td>\n",
       "      <td>689681</td>\n",
       "      <td>691781</td>\n",
       "      <td>691611</td>\n",
       "      <td>689681</td>\n",
       "      <td>691938</td>\n",
       "    </tr>\n",
       "    <tr>\n",
       "      <th>CVX</th>\n",
       "      <td>539443</td>\n",
       "      <td>539442</td>\n",
       "      <td>539442</td>\n",
       "      <td>539443</td>\n",
       "      <td>539491</td>\n",
       "      <td>539268</td>\n",
       "      <td>539443</td>\n",
       "      <td>539491</td>\n",
       "    </tr>\n",
       "    <tr>\n",
       "      <th>DVN</th>\n",
       "      <td>756296</td>\n",
       "      <td>756296</td>\n",
       "      <td>756267</td>\n",
       "      <td>756266</td>\n",
       "      <td>756266</td>\n",
       "      <td>758216</td>\n",
       "      <td>756266</td>\n",
       "      <td>759960</td>\n",
       "    </tr>\n",
       "    <tr>\n",
       "      <th>EOG</th>\n",
       "      <td>908973</td>\n",
       "      <td>909077</td>\n",
       "      <td>909083</td>\n",
       "      <td>909079</td>\n",
       "      <td>909079</td>\n",
       "      <td>903540</td>\n",
       "      <td>909079</td>\n",
       "      <td>909132</td>\n",
       "    </tr>\n",
       "    <tr>\n",
       "      <th>EQT</th>\n",
       "      <td>915527</td>\n",
       "      <td>915527</td>\n",
       "      <td>915568</td>\n",
       "      <td>915533</td>\n",
       "      <td>915533</td>\n",
       "      <td>916675</td>\n",
       "      <td>915533</td>\n",
       "      <td>917729</td>\n",
       "    </tr>\n",
       "    <tr>\n",
       "      <th>FANG</th>\n",
       "      <td>767017</td>\n",
       "      <td>767017</td>\n",
       "      <td>767015</td>\n",
       "      <td>767017</td>\n",
       "      <td>767017</td>\n",
       "      <td>766021</td>\n",
       "      <td>767017</td>\n",
       "      <td>767066</td>\n",
       "    </tr>\n",
       "    <tr>\n",
       "      <th>HAL</th>\n",
       "      <td>1158870</td>\n",
       "      <td>1158869</td>\n",
       "      <td>1158870</td>\n",
       "      <td>1158869</td>\n",
       "      <td>1158869</td>\n",
       "      <td>1155693</td>\n",
       "      <td>1158869</td>\n",
       "      <td>1161004</td>\n",
       "    </tr>\n",
       "  </tbody>\n",
       "</table>\n",
       "</div>"
      ],
      "text/plain": [
       "           Open     High      Low    Close  Adj Close   Volume      CIK  \\\n",
       "Symbol                                                                    \n",
       "APA      234159   234159   234159   234158     234158   237151   234158   \n",
       "BKR      307874   307873   307873   307873     307873   310664   307873   \n",
       "COP      644091   644091   644092   644092     644092   641243   644092   \n",
       "CTRA     689682   689681   689682   689681     691781   691611   689681   \n",
       "CVX      539443   539442   539442   539443     539491   539268   539443   \n",
       "DVN      756296   756296   756267   756266     756266   758216   756266   \n",
       "EOG      908973   909077   909083   909079     909079   903540   909079   \n",
       "EQT      915527   915527   915568   915533     915533   916675   915533   \n",
       "FANG     767017   767017   767015   767017     767017   766021   767017   \n",
       "HAL     1158870  1158869  1158870  1158869    1158869  1155693  1158869   \n",
       "\n",
       "          Anual  \n",
       "Symbol           \n",
       "APA      237856  \n",
       "BKR      311730  \n",
       "COP      644146  \n",
       "CTRA     691938  \n",
       "CVX      539491  \n",
       "DVN      759960  \n",
       "EOG      909132  \n",
       "EQT      917729  \n",
       "FANG     767066  \n",
       "HAL     1161004  "
      ]
     },
     "execution_count": 10,
     "metadata": {},
     "output_type": "execute_result"
    }
   ],
   "source": [
    "mayores.head(10)"
   ]
  },
  {
   "cell_type": "code",
   "execution_count": 11,
   "metadata": {},
   "outputs": [],
   "source": [
    "mayores_top5 = mayores.sort_values(by=['Close'], ascending=False)"
   ]
  },
  {
   "cell_type": "code",
   "execution_count": 36,
   "metadata": {},
   "outputs": [
    {
     "data": {
      "text/html": [
       "<div>\n",
       "<style scoped>\n",
       "    .dataframe tbody tr th:only-of-type {\n",
       "        vertical-align: middle;\n",
       "    }\n",
       "\n",
       "    .dataframe tbody tr th {\n",
       "        vertical-align: top;\n",
       "    }\n",
       "\n",
       "    .dataframe thead th {\n",
       "        text-align: right;\n",
       "    }\n",
       "</style>\n",
       "<table border=\"1\" class=\"dataframe\">\n",
       "  <thead>\n",
       "    <tr style=\"text-align: right;\">\n",
       "      <th></th>\n",
       "      <th>Open</th>\n",
       "      <th>High</th>\n",
       "      <th>Low</th>\n",
       "      <th>Close</th>\n",
       "      <th>Adj Close</th>\n",
       "      <th>Volume</th>\n",
       "      <th>CIK</th>\n",
       "      <th>Anual</th>\n",
       "    </tr>\n",
       "    <tr>\n",
       "      <th>Symbol</th>\n",
       "      <th></th>\n",
       "      <th></th>\n",
       "      <th></th>\n",
       "      <th></th>\n",
       "      <th></th>\n",
       "      <th></th>\n",
       "      <th></th>\n",
       "      <th></th>\n",
       "    </tr>\n",
       "  </thead>\n",
       "  <tbody>\n",
       "    <tr>\n",
       "      <th>WMB</th>\n",
       "      <td>2553086</td>\n",
       "      <td>2553085</td>\n",
       "      <td>2552884</td>\n",
       "      <td>2553085</td>\n",
       "      <td>2553085</td>\n",
       "      <td>2553876</td>\n",
       "      <td>2553085</td>\n",
       "      <td>2554989</td>\n",
       "    </tr>\n",
       "    <tr>\n",
       "      <th>VLO</th>\n",
       "      <td>2423772</td>\n",
       "      <td>2423769</td>\n",
       "      <td>2423772</td>\n",
       "      <td>2423771</td>\n",
       "      <td>2423771</td>\n",
       "      <td>2419052</td>\n",
       "      <td>2423771</td>\n",
       "      <td>2423771</td>\n",
       "    </tr>\n",
       "    <tr>\n",
       "      <th>TRGP</th>\n",
       "      <td>2268158</td>\n",
       "      <td>2268149</td>\n",
       "      <td>2268160</td>\n",
       "      <td>2268149</td>\n",
       "      <td>2268149</td>\n",
       "      <td>2270242</td>\n",
       "      <td>2268149</td>\n",
       "      <td>2270328</td>\n",
       "    </tr>\n",
       "    <tr>\n",
       "      <th>SLB</th>\n",
       "      <td>2122351</td>\n",
       "      <td>2122351</td>\n",
       "      <td>2122351</td>\n",
       "      <td>2122350</td>\n",
       "      <td>2122350</td>\n",
       "      <td>2121254</td>\n",
       "      <td>2122350</td>\n",
       "      <td>2124502</td>\n",
       "    </tr>\n",
       "    <tr>\n",
       "      <th>PXD</th>\n",
       "      <td>1920593</td>\n",
       "      <td>1920587</td>\n",
       "      <td>1920593</td>\n",
       "      <td>1920592</td>\n",
       "      <td>1920592</td>\n",
       "      <td>1917142</td>\n",
       "      <td>1920592</td>\n",
       "      <td>1920749</td>\n",
       "    </tr>\n",
       "  </tbody>\n",
       "</table>\n",
       "</div>"
      ],
      "text/plain": [
       "           Open     High      Low    Close  Adj Close   Volume      CIK  \\\n",
       "Symbol                                                                    \n",
       "WMB     2553086  2553085  2552884  2553085    2553085  2553876  2553085   \n",
       "VLO     2423772  2423769  2423772  2423771    2423771  2419052  2423771   \n",
       "TRGP    2268158  2268149  2268160  2268149    2268149  2270242  2268149   \n",
       "SLB     2122351  2122351  2122351  2122350    2122350  2121254  2122350   \n",
       "PXD     1920593  1920587  1920593  1920592    1920592  1917142  1920592   \n",
       "\n",
       "          Anual  \n",
       "Symbol           \n",
       "WMB     2554989  \n",
       "VLO     2423771  \n",
       "TRGP    2270328  \n",
       "SLB     2124502  \n",
       "PXD     1920749  "
      ]
     },
     "execution_count": 36,
     "metadata": {},
     "output_type": "execute_result"
    }
   ],
   "source": [
    "# Obtengo las empresas con mayor cierre\n",
    "mayores_top5.head(5)"
   ]
  },
  {
   "cell_type": "code",
   "execution_count": null,
   "metadata": {},
   "outputs": [],
   "source": [
    "sector_final = datos[datos['Symbol'] == 'WMB' | ]"
   ]
  },
  {
   "cell_type": "code",
   "execution_count": 13,
   "metadata": {},
   "outputs": [],
   "source": [
    "empresa_WMB = datos[datos['Symbol'] == 'WMB']\n",
    "empresa_VLO = datos[datos['Symbol'] == 'VLO']\n",
    "empresa_TRGP = datos[datos['Symbol'] == 'TRGP']\n",
    "\n"
   ]
  },
  {
   "cell_type": "code",
   "execution_count": 37,
   "metadata": {},
   "outputs": [],
   "source": []
  },
  {
   "cell_type": "code",
   "execution_count": 38,
   "metadata": {},
   "outputs": [],
   "source": []
  },
  {
   "cell_type": "code",
   "execution_count": null,
   "metadata": {},
   "outputs": [],
   "source": [
    "sector_final"
   ]
  },
  {
   "attachments": {},
   "cell_type": "markdown",
   "metadata": {},
   "source": [
    "# Analizando WMB"
   ]
  },
  {
   "cell_type": "code",
   "execution_count": 14,
   "metadata": {},
   "outputs": [
    {
     "data": {
      "text/html": [
       "<div>\n",
       "<style scoped>\n",
       "    .dataframe tbody tr th:only-of-type {\n",
       "        vertical-align: middle;\n",
       "    }\n",
       "\n",
       "    .dataframe tbody tr th {\n",
       "        vertical-align: top;\n",
       "    }\n",
       "\n",
       "    .dataframe thead th {\n",
       "        text-align: right;\n",
       "    }\n",
       "</style>\n",
       "<table border=\"1\" class=\"dataframe\">\n",
       "  <thead>\n",
       "    <tr style=\"text-align: right;\">\n",
       "      <th></th>\n",
       "      <th>Open</th>\n",
       "      <th>High</th>\n",
       "      <th>Low</th>\n",
       "      <th>Close</th>\n",
       "      <th>Adj Close</th>\n",
       "      <th>Volume</th>\n",
       "      <th>CIK</th>\n",
       "      <th>Anual</th>\n",
       "    </tr>\n",
       "  </thead>\n",
       "  <tbody>\n",
       "    <tr>\n",
       "      <th>count</th>\n",
       "      <td>5822.000000</td>\n",
       "      <td>5822.000000</td>\n",
       "      <td>5822.000000</td>\n",
       "      <td>5822.000000</td>\n",
       "      <td>5822.000000</td>\n",
       "      <td>5.822000e+03</td>\n",
       "      <td>5822.0</td>\n",
       "      <td>5822.000000</td>\n",
       "    </tr>\n",
       "    <tr>\n",
       "      <th>mean</th>\n",
       "      <td>24.690462</td>\n",
       "      <td>25.031870</td>\n",
       "      <td>24.318238</td>\n",
       "      <td>24.681412</td>\n",
       "      <td>15.425357</td>\n",
       "      <td>7.373698e+06</td>\n",
       "      <td>107263.0</td>\n",
       "      <td>2011.077121</td>\n",
       "    </tr>\n",
       "    <tr>\n",
       "      <th>std</th>\n",
       "      <td>11.078273</td>\n",
       "      <td>11.169708</td>\n",
       "      <td>10.984887</td>\n",
       "      <td>11.075295</td>\n",
       "      <td>8.406303</td>\n",
       "      <td>5.451731e+06</td>\n",
       "      <td>0.0</td>\n",
       "      <td>6.676442</td>\n",
       "    </tr>\n",
       "    <tr>\n",
       "      <th>min</th>\n",
       "      <td>0.717376</td>\n",
       "      <td>0.937480</td>\n",
       "      <td>0.635856</td>\n",
       "      <td>0.717376</td>\n",
       "      <td>0.333410</td>\n",
       "      <td>4.074280e+05</td>\n",
       "      <td>107263.0</td>\n",
       "      <td>2000.000000</td>\n",
       "    </tr>\n",
       "    <tr>\n",
       "      <th>25%</th>\n",
       "      <td>17.673536</td>\n",
       "      <td>17.991465</td>\n",
       "      <td>17.306696</td>\n",
       "      <td>17.661346</td>\n",
       "      <td>8.844745</td>\n",
       "      <td>4.301584e+06</td>\n",
       "      <td>107263.0</td>\n",
       "      <td>2005.000000</td>\n",
       "    </tr>\n",
       "    <tr>\n",
       "      <th>50%</th>\n",
       "      <td>25.041472</td>\n",
       "      <td>25.410000</td>\n",
       "      <td>24.740660</td>\n",
       "      <td>25.067400</td>\n",
       "      <td>14.175124</td>\n",
       "      <td>6.325700e+06</td>\n",
       "      <td>107263.0</td>\n",
       "      <td>2011.000000</td>\n",
       "    </tr>\n",
       "    <tr>\n",
       "      <th>75%</th>\n",
       "      <td>30.682499</td>\n",
       "      <td>31.055005</td>\n",
       "      <td>30.299999</td>\n",
       "      <td>30.682499</td>\n",
       "      <td>20.988673</td>\n",
       "      <td>9.005834e+06</td>\n",
       "      <td>107263.0</td>\n",
       "      <td>2017.000000</td>\n",
       "    </tr>\n",
       "    <tr>\n",
       "      <th>max</th>\n",
       "      <td>60.169998</td>\n",
       "      <td>61.380001</td>\n",
       "      <td>59.040001</td>\n",
       "      <td>60.860001</td>\n",
       "      <td>38.229805</td>\n",
       "      <td>1.216081e+08</td>\n",
       "      <td>107263.0</td>\n",
       "      <td>2023.000000</td>\n",
       "    </tr>\n",
       "  </tbody>\n",
       "</table>\n",
       "</div>"
      ],
      "text/plain": [
       "              Open         High          Low        Close    Adj Close  \\\n",
       "count  5822.000000  5822.000000  5822.000000  5822.000000  5822.000000   \n",
       "mean     24.690462    25.031870    24.318238    24.681412    15.425357   \n",
       "std      11.078273    11.169708    10.984887    11.075295     8.406303   \n",
       "min       0.717376     0.937480     0.635856     0.717376     0.333410   \n",
       "25%      17.673536    17.991465    17.306696    17.661346     8.844745   \n",
       "50%      25.041472    25.410000    24.740660    25.067400    14.175124   \n",
       "75%      30.682499    31.055005    30.299999    30.682499    20.988673   \n",
       "max      60.169998    61.380001    59.040001    60.860001    38.229805   \n",
       "\n",
       "             Volume       CIK        Anual  \n",
       "count  5.822000e+03    5822.0  5822.000000  \n",
       "mean   7.373698e+06  107263.0  2011.077121  \n",
       "std    5.451731e+06       0.0     6.676442  \n",
       "min    4.074280e+05  107263.0  2000.000000  \n",
       "25%    4.301584e+06  107263.0  2005.000000  \n",
       "50%    6.325700e+06  107263.0  2011.000000  \n",
       "75%    9.005834e+06  107263.0  2017.000000  \n",
       "max    1.216081e+08  107263.0  2023.000000  "
      ]
     },
     "execution_count": 14,
     "metadata": {},
     "output_type": "execute_result"
    }
   ],
   "source": [
    "empresa_WMB.describe()"
   ]
  },
  {
   "cell_type": "code",
   "execution_count": 15,
   "metadata": {},
   "outputs": [
    {
     "data": {
      "text/plain": [
       "<contextlib.ExitStack at 0x24b8816f010>"
      ]
     },
     "execution_count": 15,
     "metadata": {},
     "output_type": "execute_result"
    },
    {
     "data": {
      "image/png": "[encoded data removed]",
      "text/plain": [
       "<Figure size 720x288 with 1 Axes>"
      ]
     },
     "metadata": {
      "needs_background": "light"
     },
     "output_type": "display_data"
    }
   ],
   "source": [
    "# visualizando el close\n",
    "empresa_WMB.plot(y='Close',x='Anual', legend=True,figsize=(10,4))\n",
    "plt.ioff()"
   ]
  },
  {
   "cell_type": "code",
   "execution_count": 16,
   "metadata": {},
   "outputs": [
    {
     "data": {
      "image/png": "[encoded data removed]",
      "text/plain": [
       "<Figure size 720x288 with 1 Axes>"
      ]
     },
     "metadata": {
      "needs_background": "light"
     },
     "output_type": "display_data"
    }
   ],
   "source": [
    "# Visualizando el volumen\n",
    "empresa_WMB.plot(y='Volume', x= 'Anual', legend=True,figsize=(10,4))\n",
    "plt.show()"
   ]
  },
  {
   "cell_type": "code",
   "execution_count": 17,
   "metadata": {},
   "outputs": [
    {
     "name": "stderr",
     "output_type": "stream",
     "text": [
      "C:\\Users\\Public\\Documents\\Wondershare\\CreatorTemp\\ipykernel_26496\\607658891.py:1: SettingWithCopyWarning: \n",
      "A value is trying to be set on a copy of a slice from a DataFrame.\n",
      "Try using .loc[row_indexer,col_indexer] = value instead\n",
      "\n",
      "See the caveats in the documentation: https://pandas.pydata.org/pandas-docs/stable/user_guide/indexing.html#returning-a-view-versus-a-copy\n",
      "  empresa_WMB['Close_30']=empresa_WMB['Close'].rolling(30).mean() #calculating rolling mean\n"
     ]
    }
   ],
   "source": [
    "empresa_WMB['Close_30']=empresa_WMB['Close'].rolling(30).mean() #calculating rolling mean"
   ]
  },
  {
   "cell_type": "code",
   "execution_count": 18,
   "metadata": {},
   "outputs": [
    {
     "data": {
      "text/plain": [
       "<contextlib.ExitStack at 0x24b99c28e80>"
      ]
     },
     "execution_count": 18,
     "metadata": {},
     "output_type": "execute_result"
    },
    {
     "data": {
      "image/png": "[encoded data removed]",
      "text/plain": [
       "<Figure size 720x288 with 1 Axes>"
      ]
     },
     "metadata": {
      "needs_background": "light"
     },
     "output_type": "display_data"
    }
   ],
   "source": [
    "ax = empresa_WMB.plot(y='Close',title='WMB Close Price',figsize=(10,4))\n",
    "empresa_WMB.plot(y='Close_30',color='red',ax=ax)\n",
    "plt.ioff()"
   ]
  },
  {
   "cell_type": "code",
   "execution_count": 19,
   "metadata": {},
   "outputs": [
    {
     "name": "stderr",
     "output_type": "stream",
     "text": [
      "C:\\Users\\Public\\Documents\\Wondershare\\CreatorTemp\\ipykernel_26496\\216600153.py:2: SettingWithCopyWarning: \n",
      "A value is trying to be set on a copy of a slice from a DataFrame.\n",
      "Try using .loc[row_indexer,col_indexer] = value instead\n",
      "\n",
      "See the caveats in the documentation: https://pandas.pydata.org/pandas-docs/stable/user_guide/indexing.html#returning-a-view-versus-a-copy\n",
      "  empresa_WMB['Retorno Diario']=empresa_WMB['Close'].pct_change()\n"
     ]
    },
    {
     "data": {
      "text/plain": [
       "<contextlib.ExitStack at 0x24b9a351810>"
      ]
     },
     "execution_count": 19,
     "metadata": {},
     "output_type": "execute_result"
    },
    {
     "data": {
      "image/png": "[encoded data removed]",
      "text/plain": [
       "<Figure size 1080x288 with 1 Axes>"
      ]
     },
     "metadata": {
      "needs_background": "light"
     },
     "output_type": "display_data"
    }
   ],
   "source": [
    "#Daily returns of WMB\n",
    "empresa_WMB['Retorno Diario']=empresa_WMB['Close'].pct_change()\n",
    "empresa_WMB['Retorno Diario'].plot(figsize=(15,4),legend=True,linestyle='--',marker='o')\n",
    "plt.ioff()"
   ]
  },
  {
   "attachments": {},
   "cell_type": "markdown",
   "metadata": {},
   "source": [
    "# Analizando VLO"
   ]
  },
  {
   "cell_type": "code",
   "execution_count": 20,
   "metadata": {},
   "outputs": [
    {
     "data": {
      "text/html": [
       "<div>\n",
       "<style scoped>\n",
       "    .dataframe tbody tr th:only-of-type {\n",
       "        vertical-align: middle;\n",
       "    }\n",
       "\n",
       "    .dataframe tbody tr th {\n",
       "        vertical-align: top;\n",
       "    }\n",
       "\n",
       "    .dataframe thead th {\n",
       "        text-align: right;\n",
       "    }\n",
       "</style>\n",
       "<table border=\"1\" class=\"dataframe\">\n",
       "  <thead>\n",
       "    <tr style=\"text-align: right;\">\n",
       "      <th></th>\n",
       "      <th>Open</th>\n",
       "      <th>High</th>\n",
       "      <th>Low</th>\n",
       "      <th>Close</th>\n",
       "      <th>Adj Close</th>\n",
       "      <th>Volume</th>\n",
       "      <th>CIK</th>\n",
       "      <th>Anual</th>\n",
       "    </tr>\n",
       "  </thead>\n",
       "  <tbody>\n",
       "    <tr>\n",
       "      <th>count</th>\n",
       "      <td>5822.000000</td>\n",
       "      <td>5822.000000</td>\n",
       "      <td>5822.000000</td>\n",
       "      <td>5822.000000</td>\n",
       "      <td>5822.000000</td>\n",
       "      <td>5.822000e+03</td>\n",
       "      <td>5822.0</td>\n",
       "      <td>5822.000000</td>\n",
       "    </tr>\n",
       "    <tr>\n",
       "      <th>mean</th>\n",
       "      <td>45.201970</td>\n",
       "      <td>45.882743</td>\n",
       "      <td>44.478349</td>\n",
       "      <td>45.185214</td>\n",
       "      <td>34.664892</td>\n",
       "      <td>7.898126e+06</td>\n",
       "      <td>1035002.0</td>\n",
       "      <td>2011.077121</td>\n",
       "    </tr>\n",
       "    <tr>\n",
       "      <th>std</th>\n",
       "      <td>31.383739</td>\n",
       "      <td>31.836689</td>\n",
       "      <td>30.925548</td>\n",
       "      <td>31.382147</td>\n",
       "      <td>29.007271</td>\n",
       "      <td>5.451153e+06</td>\n",
       "      <td>0.0</td>\n",
       "      <td>6.676442</td>\n",
       "    </tr>\n",
       "    <tr>\n",
       "      <th>min</th>\n",
       "      <td>4.356147</td>\n",
       "      <td>4.356147</td>\n",
       "      <td>4.227605</td>\n",
       "      <td>4.327582</td>\n",
       "      <td>2.505259</td>\n",
       "      <td>5.598000e+05</td>\n",
       "      <td>1035002.0</td>\n",
       "      <td>2000.000000</td>\n",
       "    </tr>\n",
       "    <tr>\n",
       "      <th>25%</th>\n",
       "      <td>16.969264</td>\n",
       "      <td>17.296618</td>\n",
       "      <td>16.590494</td>\n",
       "      <td>16.928701</td>\n",
       "      <td>10.835297</td>\n",
       "      <td>4.008732e+06</td>\n",
       "      <td>1035002.0</td>\n",
       "      <td>2005.000000</td>\n",
       "    </tr>\n",
       "    <tr>\n",
       "      <th>50%</th>\n",
       "      <td>45.141272</td>\n",
       "      <td>46.124313</td>\n",
       "      <td>44.291592</td>\n",
       "      <td>45.143557</td>\n",
       "      <td>28.982536</td>\n",
       "      <td>6.528650e+06</td>\n",
       "      <td>1035002.0</td>\n",
       "      <td>2011.000000</td>\n",
       "    </tr>\n",
       "    <tr>\n",
       "      <th>75%</th>\n",
       "      <td>65.014997</td>\n",
       "      <td>65.977503</td>\n",
       "      <td>64.063232</td>\n",
       "      <td>65.034920</td>\n",
       "      <td>49.769736</td>\n",
       "      <td>1.042839e+07</td>\n",
       "      <td>1035002.0</td>\n",
       "      <td>2017.000000</td>\n",
       "    </tr>\n",
       "    <tr>\n",
       "      <th>max</th>\n",
       "      <td>150.050003</td>\n",
       "      <td>160.160004</td>\n",
       "      <td>143.139999</td>\n",
       "      <td>149.960007</td>\n",
       "      <td>148.873108</td>\n",
       "      <td>8.471936e+07</td>\n",
       "      <td>1035002.0</td>\n",
       "      <td>2023.000000</td>\n",
       "    </tr>\n",
       "  </tbody>\n",
       "</table>\n",
       "</div>"
      ],
      "text/plain": [
       "              Open         High          Low        Close    Adj Close  \\\n",
       "count  5822.000000  5822.000000  5822.000000  5822.000000  5822.000000   \n",
       "mean     45.201970    45.882743    44.478349    45.185214    34.664892   \n",
       "std      31.383739    31.836689    30.925548    31.382147    29.007271   \n",
       "min       4.356147     4.356147     4.227605     4.327582     2.505259   \n",
       "25%      16.969264    17.296618    16.590494    16.928701    10.835297   \n",
       "50%      45.141272    46.124313    44.291592    45.143557    28.982536   \n",
       "75%      65.014997    65.977503    64.063232    65.034920    49.769736   \n",
       "max     150.050003   160.160004   143.139999   149.960007   148.873108   \n",
       "\n",
       "             Volume        CIK        Anual  \n",
       "count  5.822000e+03     5822.0  5822.000000  \n",
       "mean   7.898126e+06  1035002.0  2011.077121  \n",
       "std    5.451153e+06        0.0     6.676442  \n",
       "min    5.598000e+05  1035002.0  2000.000000  \n",
       "25%    4.008732e+06  1035002.0  2005.000000  \n",
       "50%    6.528650e+06  1035002.0  2011.000000  \n",
       "75%    1.042839e+07  1035002.0  2017.000000  \n",
       "max    8.471936e+07  1035002.0  2023.000000  "
      ]
     },
     "execution_count": 20,
     "metadata": {},
     "output_type": "execute_result"
    }
   ],
   "source": [
    "empresa_VLO.describe()"
   ]
  },
  {
   "cell_type": "code",
   "execution_count": 21,
   "metadata": {},
   "outputs": [
    {
     "data": {
      "text/plain": [
       "<contextlib.ExitStack at 0x24b9a525150>"
      ]
     },
     "execution_count": 21,
     "metadata": {},
     "output_type": "execute_result"
    },
    {
     "data": {
      "image/png": "[encoded data removed]",
      "text/plain": [
       "<Figure size 720x288 with 1 Axes>"
      ]
     },
     "metadata": {
      "needs_background": "light"
     },
     "output_type": "display_data"
    }
   ],
   "source": [
    "# visualizando el close\n",
    "empresa_VLO.plot(y='Close',x='Anual', legend=True,figsize=(10,4))\n",
    "plt.ioff()"
   ]
  },
  {
   "cell_type": "code",
   "execution_count": 22,
   "metadata": {},
   "outputs": [
    {
     "data": {
      "image/png": "[encoded data removed]",
      "text/plain": [
       "<Figure size 720x288 with 1 Axes>"
      ]
     },
     "metadata": {
      "needs_background": "light"
     },
     "output_type": "display_data"
    }
   ],
   "source": [
    "# Visualizando el volumen\n",
    "empresa_VLO.plot(y='Volume', x= 'Anual', legend=True,figsize=(10,4))\n",
    "plt.show()"
   ]
  },
  {
   "cell_type": "code",
   "execution_count": 24,
   "metadata": {},
   "outputs": [
    {
     "name": "stderr",
     "output_type": "stream",
     "text": [
      "C:\\Users\\Public\\Documents\\Wondershare\\CreatorTemp\\ipykernel_26496\\3535833926.py:1: SettingWithCopyWarning: \n",
      "A value is trying to be set on a copy of a slice from a DataFrame.\n",
      "Try using .loc[row_indexer,col_indexer] = value instead\n",
      "\n",
      "See the caveats in the documentation: https://pandas.pydata.org/pandas-docs/stable/user_guide/indexing.html#returning-a-view-versus-a-copy\n",
      "  empresa_VLO['Close_30']=empresa_WMB['Close'].rolling(30).mean() #calculating rolling mean\n"
     ]
    }
   ],
   "source": [
    "empresa_VLO['Close_30']=empresa_WMB['Close'].rolling(30).mean() #calculating rolling mean"
   ]
  },
  {
   "cell_type": "code",
   "execution_count": 23,
   "metadata": {},
   "outputs": [
    {
     "data": {
      "image/png": "[encoded data removed]",
      "text/plain": [
       "<Figure size 720x288 with 1 Axes>"
      ]
     },
     "metadata": {
      "needs_background": "light"
     },
     "output_type": "display_data"
    }
   ],
   "source": [
    "# Visualizando el volumen\n",
    "empresa_VLO.plot(y='Volume', x= 'Anual', legend=True,figsize=(10,4))\n",
    "plt.show()"
   ]
  },
  {
   "cell_type": "code",
   "execution_count": 25,
   "metadata": {},
   "outputs": [
    {
     "name": "stderr",
     "output_type": "stream",
     "text": [
      "C:\\Users\\Public\\Documents\\Wondershare\\CreatorTemp\\ipykernel_26496\\3535833926.py:1: SettingWithCopyWarning: \n",
      "A value is trying to be set on a copy of a slice from a DataFrame.\n",
      "Try using .loc[row_indexer,col_indexer] = value instead\n",
      "\n",
      "See the caveats in the documentation: https://pandas.pydata.org/pandas-docs/stable/user_guide/indexing.html#returning-a-view-versus-a-copy\n",
      "  empresa_VLO['Close_30']=empresa_WMB['Close'].rolling(30).mean() #calculating rolling mean\n"
     ]
    }
   ],
   "source": [
    "empresa_VLO['Close_30']=empresa_WMB['Close'].rolling(30).mean() #calculating rolling mean"
   ]
  },
  {
   "cell_type": "code",
   "execution_count": 34,
   "metadata": {},
   "outputs": [
    {
     "data": {
      "text/plain": [
       "<contextlib.ExitStack at 0x24b9a732e00>"
      ]
     },
     "execution_count": 34,
     "metadata": {},
     "output_type": "execute_result"
    },
    {
     "data": {
      "image/png": "[encoded data removed]",
      "text/plain": [
       "<Figure size 720x288 with 1 Axes>"
      ]
     },
     "metadata": {
      "needs_background": "light"
     },
     "output_type": "display_data"
    }
   ],
   "source": [
    "ax = empresa_VLO.plot(y='Close',title='WMB Close Price',figsize=(10,4))\n",
    "empresa_VLO.plot(y='Close_30',color='red',ax=ax)\n",
    "plt.ioff()"
   ]
  },
  {
   "cell_type": "code",
   "execution_count": 27,
   "metadata": {},
   "outputs": [
    {
     "name": "stderr",
     "output_type": "stream",
     "text": [
      "C:\\Users\\Public\\Documents\\Wondershare\\CreatorTemp\\ipykernel_26496\\2059292032.py:2: SettingWithCopyWarning: \n",
      "A value is trying to be set on a copy of a slice from a DataFrame.\n",
      "Try using .loc[row_indexer,col_indexer] = value instead\n",
      "\n",
      "See the caveats in the documentation: https://pandas.pydata.org/pandas-docs/stable/user_guide/indexing.html#returning-a-view-versus-a-copy\n",
      "  empresa_VLO['Retorno Diario']=empresa_VLO['Close'].pct_change()\n"
     ]
    },
    {
     "data": {
      "text/plain": [
       "<contextlib.ExitStack at 0x24b9a473a60>"
      ]
     },
     "execution_count": 27,
     "metadata": {},
     "output_type": "execute_result"
    },
    {
     "data": {
      "image/png": "[encoded data removed]",
      "text/plain": [
       "<Figure size 1080x288 with 1 Axes>"
      ]
     },
     "metadata": {
      "needs_background": "light"
     },
     "output_type": "display_data"
    }
   ],
   "source": [
    "#Daily returns of VLO\n",
    "empresa_VLO['Retorno Diario']=empresa_VLO['Close'].pct_change()\n",
    "empresa_VLO['Retorno Diario'].plot(figsize=(15,4),legend=True,linestyle='--',marker='o')\n",
    "plt.ioff()"
   ]
  },
  {
   "attachments": {},
   "cell_type": "markdown",
   "metadata": {},
   "source": [
    "# Analizando TRGP\n"
   ]
  },
  {
   "cell_type": "code",
   "execution_count": 28,
   "metadata": {},
   "outputs": [
    {
     "data": {
      "text/html": [
       "<div>\n",
       "<style scoped>\n",
       "    .dataframe tbody tr th:only-of-type {\n",
       "        vertical-align: middle;\n",
       "    }\n",
       "\n",
       "    .dataframe tbody tr th {\n",
       "        vertical-align: top;\n",
       "    }\n",
       "\n",
       "    .dataframe thead th {\n",
       "        text-align: right;\n",
       "    }\n",
       "</style>\n",
       "<table border=\"1\" class=\"dataframe\">\n",
       "  <thead>\n",
       "    <tr style=\"text-align: right;\">\n",
       "      <th></th>\n",
       "      <th>Open</th>\n",
       "      <th>High</th>\n",
       "      <th>Low</th>\n",
       "      <th>Close</th>\n",
       "      <th>Adj Close</th>\n",
       "      <th>Volume</th>\n",
       "      <th>CIK</th>\n",
       "      <th>Anual</th>\n",
       "    </tr>\n",
       "  </thead>\n",
       "  <tbody>\n",
       "    <tr>\n",
       "      <th>count</th>\n",
       "      <td>3073.000000</td>\n",
       "      <td>3073.000000</td>\n",
       "      <td>3073.000000</td>\n",
       "      <td>3073.000000</td>\n",
       "      <td>3073.000000</td>\n",
       "      <td>3.073000e+03</td>\n",
       "      <td>3073.0</td>\n",
       "      <td>3073.000000</td>\n",
       "    </tr>\n",
       "    <tr>\n",
       "      <th>mean</th>\n",
       "      <td>54.104735</td>\n",
       "      <td>54.912893</td>\n",
       "      <td>53.261132</td>\n",
       "      <td>54.109388</td>\n",
       "      <td>39.866970</td>\n",
       "      <td>1.547802e+06</td>\n",
       "      <td>1389170.0</td>\n",
       "      <td>2016.537585</td>\n",
       "    </tr>\n",
       "    <tr>\n",
       "      <th>std</th>\n",
       "      <td>26.207243</td>\n",
       "      <td>26.515548</td>\n",
       "      <td>25.939184</td>\n",
       "      <td>26.228243</td>\n",
       "      <td>17.859085</td>\n",
       "      <td>1.899713e+06</td>\n",
       "      <td>0.0</td>\n",
       "      <td>3.526772</td>\n",
       "    </tr>\n",
       "    <tr>\n",
       "      <th>min</th>\n",
       "      <td>4.780000</td>\n",
       "      <td>6.450000</td>\n",
       "      <td>3.660000</td>\n",
       "      <td>4.730000</td>\n",
       "      <td>4.471078</td>\n",
       "      <td>3.100000e+04</td>\n",
       "      <td>1389170.0</td>\n",
       "      <td>2010.000000</td>\n",
       "    </tr>\n",
       "    <tr>\n",
       "      <th>25%</th>\n",
       "      <td>38.480000</td>\n",
       "      <td>39.090000</td>\n",
       "      <td>37.980000</td>\n",
       "      <td>38.540001</td>\n",
       "      <td>27.390070</td>\n",
       "      <td>3.068000e+05</td>\n",
       "      <td>1389170.0</td>\n",
       "      <td>2013.000000</td>\n",
       "    </tr>\n",
       "    <tr>\n",
       "      <th>50%</th>\n",
       "      <td>46.900002</td>\n",
       "      <td>47.570000</td>\n",
       "      <td>46.320000</td>\n",
       "      <td>46.930000</td>\n",
       "      <td>36.583187</td>\n",
       "      <td>1.319500e+06</td>\n",
       "      <td>1389170.0</td>\n",
       "      <td>2017.000000</td>\n",
       "    </tr>\n",
       "    <tr>\n",
       "      <th>75%</th>\n",
       "      <td>66.349998</td>\n",
       "      <td>67.250000</td>\n",
       "      <td>65.400002</td>\n",
       "      <td>66.419998</td>\n",
       "      <td>49.260571</td>\n",
       "      <td>2.057200e+06</td>\n",
       "      <td>1389170.0</td>\n",
       "      <td>2020.000000</td>\n",
       "    </tr>\n",
       "    <tr>\n",
       "      <th>max</th>\n",
       "      <td>144.210007</td>\n",
       "      <td>160.970001</td>\n",
       "      <td>140.539993</td>\n",
       "      <td>150.619995</td>\n",
       "      <td>93.275513</td>\n",
       "      <td>4.903320e+07</td>\n",
       "      <td>1389170.0</td>\n",
       "      <td>2023.000000</td>\n",
       "    </tr>\n",
       "  </tbody>\n",
       "</table>\n",
       "</div>"
      ],
      "text/plain": [
       "              Open         High          Low        Close    Adj Close  \\\n",
       "count  3073.000000  3073.000000  3073.000000  3073.000000  3073.000000   \n",
       "mean     54.104735    54.912893    53.261132    54.109388    39.866970   \n",
       "std      26.207243    26.515548    25.939184    26.228243    17.859085   \n",
       "min       4.780000     6.450000     3.660000     4.730000     4.471078   \n",
       "25%      38.480000    39.090000    37.980000    38.540001    27.390070   \n",
       "50%      46.900002    47.570000    46.320000    46.930000    36.583187   \n",
       "75%      66.349998    67.250000    65.400002    66.419998    49.260571   \n",
       "max     144.210007   160.970001   140.539993   150.619995    93.275513   \n",
       "\n",
       "             Volume        CIK        Anual  \n",
       "count  3.073000e+03     3073.0  3073.000000  \n",
       "mean   1.547802e+06  1389170.0  2016.537585  \n",
       "std    1.899713e+06        0.0     3.526772  \n",
       "min    3.100000e+04  1389170.0  2010.000000  \n",
       "25%    3.068000e+05  1389170.0  2013.000000  \n",
       "50%    1.319500e+06  1389170.0  2017.000000  \n",
       "75%    2.057200e+06  1389170.0  2020.000000  \n",
       "max    4.903320e+07  1389170.0  2023.000000  "
      ]
     },
     "execution_count": 28,
     "metadata": {},
     "output_type": "execute_result"
    }
   ],
   "source": [
    "empresa_TRGP.describe()"
   ]
  },
  {
   "cell_type": "code",
   "execution_count": 29,
   "metadata": {},
   "outputs": [
    {
     "data": {
      "text/plain": [
       "<contextlib.ExitStack at 0x24b9a612aa0>"
      ]
     },
     "execution_count": 29,
     "metadata": {},
     "output_type": "execute_result"
    },
    {
     "data": {
      "image/png": "[encoded data removed]",
      "text/plain": [
       "<Figure size 720x288 with 1 Axes>"
      ]
     },
     "metadata": {
      "needs_background": "light"
     },
     "output_type": "display_data"
    }
   ],
   "source": [
    "# visualizando el close\n",
    "empresa_TRGP.plot(y='Close',x='Anual', legend=True,figsize=(10,4))\n",
    "plt.ioff()"
   ]
  },
  {
   "cell_type": "code",
   "execution_count": 30,
   "metadata": {},
   "outputs": [
    {
     "data": {
      "image/png": "[encoded data removed]",
      "text/plain": [
       "<Figure size 720x288 with 1 Axes>"
      ]
     },
     "metadata": {
      "needs_background": "light"
     },
     "output_type": "display_data"
    }
   ],
   "source": [
    "# Visualizando el volumen\n",
    "empresa_TRGP.plot(y='Volume', x= 'Anual', legend=True,figsize=(10,4))\n",
    "plt.show()"
   ]
  },
  {
   "cell_type": "code",
   "execution_count": 31,
   "metadata": {},
   "outputs": [
    {
     "name": "stderr",
     "output_type": "stream",
     "text": [
      "C:\\Users\\Public\\Documents\\Wondershare\\CreatorTemp\\ipykernel_26496\\2234045841.py:1: SettingWithCopyWarning: \n",
      "A value is trying to be set on a copy of a slice from a DataFrame.\n",
      "Try using .loc[row_indexer,col_indexer] = value instead\n",
      "\n",
      "See the caveats in the documentation: https://pandas.pydata.org/pandas-docs/stable/user_guide/indexing.html#returning-a-view-versus-a-copy\n",
      "  empresa_TRGP['Close_30']=empresa_WMB['Close'].rolling(30).mean() #calculating rolling mean\n"
     ]
    }
   ],
   "source": [
    "empresa_TRGP['Close_30']=empresa_WMB['Close'].rolling(30).mean() #calculating rolling mean"
   ]
  },
  {
   "cell_type": "code",
   "execution_count": 32,
   "metadata": {},
   "outputs": [
    {
     "data": {
      "text/plain": [
       "<contextlib.ExitStack at 0x24b9a6578b0>"
      ]
     },
     "execution_count": 32,
     "metadata": {},
     "output_type": "execute_result"
    },
    {
     "data": {
      "image/png": "[encoded data removed]",
      "text/plain": [
       "<Figure size 720x288 with 1 Axes>"
      ]
     },
     "metadata": {
      "needs_background": "light"
     },
     "output_type": "display_data"
    }
   ],
   "source": [
    "ax = empresa_TRGP.plot(y='Close',title='WMB Close Price',figsize=(10,4))\n",
    "empresa_TRGP.plot(y='Close_30',color='red',ax=ax)\n",
    "plt.ioff()"
   ]
  },
  {
   "cell_type": "code",
   "execution_count": 35,
   "metadata": {},
   "outputs": [
    {
     "name": "stderr",
     "output_type": "stream",
     "text": [
      "C:\\Users\\Public\\Documents\\Wondershare\\CreatorTemp\\ipykernel_26496\\1506695609.py:2: SettingWithCopyWarning: \n",
      "A value is trying to be set on a copy of a slice from a DataFrame.\n",
      "Try using .loc[row_indexer,col_indexer] = value instead\n",
      "\n",
      "See the caveats in the documentation: https://pandas.pydata.org/pandas-docs/stable/user_guide/indexing.html#returning-a-view-versus-a-copy\n",
      "  empresa_TRGP['Retorno Diario']=empresa_VLO['Close'].pct_change()\n"
     ]
    },
    {
     "data": {
      "text/plain": [
       "<contextlib.ExitStack at 0x24b9a7b22f0>"
      ]
     },
     "execution_count": 35,
     "metadata": {},
     "output_type": "execute_result"
    },
    {
     "data": {
      "image/png": "[encoded data removed]",
      "text/plain": [
       "<Figure size 1080x288 with 1 Axes>"
      ]
     },
     "metadata": {
      "needs_background": "light"
     },
     "output_type": "display_data"
    }
   ],
   "source": [
    "#Daily returns of TRGP\n",
    "empresa_TRGP['Retorno Diario']=empresa_VLO['Close'].pct_change()\n",
    "empresa_TRGP['Retorno Diario'].plot(figsize=(15,4),legend=True,linestyle='--',marker='o')\n",
    "plt.ioff()"
   ]
  },
  {
   "cell_type": "code",
   "execution_count": 45,
   "metadata": {},
   "outputs": [],
   "source": [
    "sector_final1 = pd.merge(empresa_WMB, empresa_VLO, on='Symbol')"
   ]
  },
  {
   "cell_type": "code",
   "execution_count": 53,
   "metadata": {},
   "outputs": [
    {
     "data": {
      "text/plain": [
       "(5822, 20)"
      ]
     },
     "execution_count": 53,
     "metadata": {},
     "output_type": "execute_result"
    }
   ],
   "source": [
    "empresa_VLO.shape"
   ]
  },
  {
   "cell_type": "code",
   "execution_count": null,
   "metadata": {},
   "outputs": [],
   "source": [
    "empresa_WMB.shape"
   ]
  },
  {
   "cell_type": "code",
   "execution_count": 46,
   "metadata": {},
   "outputs": [],
   "source": [
    "sector_final = pd.merge(sector_final1, empresa_TRGP, on='Symbol')"
   ]
  },
  {
   "cell_type": "code",
   "execution_count": 47,
   "metadata": {},
   "outputs": [
    {
     "data": {
      "text/plain": [
       "(0, 58)"
      ]
     },
     "execution_count": 47,
     "metadata": {},
     "output_type": "execute_result"
    }
   ],
   "source": [
    "sector_final.shape"
   ]
  }
 ],
 "metadata": {
  "kernelspec": {
   "display_name": "Python 3",
   "language": "python",
   "name": "python3"
  },
  "language_info": {
   "codemirror_mode": {
    "name": "ipython",
    "version": 3
   },
   "file_extension": ".py",
   "mimetype": "text/x-python",
   "name": "python",
   "nbconvert_exporter": "python",
   "pygments_lexer": "ipython3",
   "version": "3.10.0"
  },
  "orig_nbformat": 4,
  "vscode": {
   "interpreter": {
    "hash": "26de051ba29f2982a8de78e945f0abaf191376122a1563185a90213a26c5da77"
   }
  }
 },
 "nbformat": 4,
 "nbformat_minor": 2
}
